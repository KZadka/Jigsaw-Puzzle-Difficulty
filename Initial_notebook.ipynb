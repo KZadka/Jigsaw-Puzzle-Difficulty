{
 "cells": [
  {
   "cell_type": "code",
   "execution_count": 77,
   "metadata": {},
   "outputs": [],
   "source": [
    "import requests\n",
    "from bs4 import BeautifulSoup\n",
    "import pandas as pd\n",
    "from PIL import Image\n",
    "import os\n",
    "import re"
   ]
  },
  {
   "cell_type": "code",
   "execution_count": 2,
   "metadata": {},
   "outputs": [],
   "source": [
    "kids_puzzles_url = 'https://www.trefl.com/puzzle/dla-dzieci?product_list_limit=all'\n",
    "adults_puzzles_url = 'https://www.trefl.com/puzzle/dla-doroslych?product_list_limit=all'"
   ]
  },
  {
   "cell_type": "code",
   "execution_count": 3,
   "metadata": {},
   "outputs": [],
   "source": [
    "def get_links(content):\n",
    "    soup = BeautifulSoup(content, 'html.parser')\n",
    "    puzzles_list = soup.find('body')\n",
    "    puzzles_list_items = puzzles_list.find('ol')\n",
    "    list_items = puzzles_list_items.find_all('li')\n",
    "    links = []\n",
    "\n",
    "    for puzzles in list_items:\n",
    "        a = puzzles.select_one('a')\n",
    "        if 'href' in a.attrs:\n",
    "            link_url = a.get('href')\n",
    "        links.append(link_url)\n",
    "    return links"
   ]
  },
  {
   "cell_type": "code",
   "execution_count": 96,
   "metadata": {},
   "outputs": [],
   "source": [
    "def get_list_of_images_and_age_categories(links):\n",
    "    excluded_keywords = ['panoramiczne', 'drewniane', 'Megabox']\n",
    "    image_and_category_dict = {}\n",
    "    invalid_links = []\n",
    "    if len(image_and_category_dict) / 50 == 0:\n",
    "                    print(f'Dict have {len(image_and_category_dict)} items.')\n",
    "    for link in links:\n",
    "        response = requests.get(link)\n",
    "        html_content = response.text\n",
    "        soup = BeautifulSoup(html_content, \"html.parser\")\n",
    "\n",
    "        try:\n",
    "            keywords = soup.find('meta', attrs={'name': 'keywords'})['content']\n",
    "        except Exception as e:\n",
    "            print(f'{e} in link: {link}')\n",
    "        else:\n",
    "            if any([keyword in keywords for keyword in excluded_keywords]):\n",
    "                continue\n",
    "        \n",
    "            elements = soup.find_all('div', class_ = 'product-content__img')\n",
    "            category = soup.find_all('div', class_ = 'c-product-attributes')\n",
    "            years = BeautifulSoup(str(category[0])).div   \n",
    "            if len(category) > 1:\n",
    "                years = BeautifulSoup(str(category[1])).div           \n",
    "            tag = BeautifulSoup(str(elements[0])).div\n",
    "            try:\n",
    "                tag_content = tag.img['src']\n",
    "                years_content =  re.split(r\"([0-9]+)\", years.img['src'])[-2]\n",
    "            except Exception as e:\n",
    "                invalid_links.append(link)\n",
    "                print(f'{e} in link: {link}')\n",
    "            else:\n",
    "                image_and_category_dict[tag_content] = years_content\n",
    "    return image_and_category_dict, invalid_links\n"
   ]
  },
  {
   "cell_type": "code",
   "execution_count": 72,
   "metadata": {},
   "outputs": [],
   "source": [
    "first_batch_of_links = get_links((requests.get(kids_puzzles_url)).text)\n",
    "second_batch_of_links = get_links((requests.get(adults_puzzles_url)).text)"
   ]
  },
  {
   "cell_type": "code",
   "execution_count": 97,
   "metadata": {},
   "outputs": [
    {
     "name": "stdout",
     "output_type": "stream",
     "text": [
      "332\n",
      "351\n",
      "683\n"
     ]
    }
   ],
   "source": [
    "print(len(first_batch_of_links))\n",
    "print(len(second_batch_of_links))\n",
    "all_links = first_batch_of_links + second_batch_of_links\n",
    "print(len(all_links))"
   ]
  },
  {
   "cell_type": "code",
   "execution_count": 98,
   "metadata": {},
   "outputs": [
    {
     "name": "stdout",
     "output_type": "stream",
     "text": [
      "Dict have 0 items.\n",
      "'NoneType' object is not subscriptable in link: https://www.trefl.com/w-swiecie-transformers-23024\n",
      "'NoneType' object is not subscriptable in link: https://www.trefl.com/urocze-bobaski-31414\n",
      "'src' in link: https://www.trefl.com/sorter-kolorow-93162\n",
      "'NoneType' object is not subscriptable in link: https://www.trefl.com/treflikowy-dzien-93166\n",
      "'NoneType' object is not subscriptable in link: https://www.trefl.com/farma-44000\n",
      "'NoneType' object is not subscriptable in link: https://www.trefl.com/zabawny-swiat-binga-93165\n",
      "'NoneType' object is not subscriptable in link: https://www.trefl.com/zabawy-peppy-93164\n",
      "'src' in link: https://www.trefl.com/rybka-minimini-36125\n",
      "'NoneType' object is not subscriptable in link: https://www.trefl.com/bohaterski-spider-man-34384\n",
      "'NoneType' object is not subscriptable in link: https://www.trefl.com/niezwyciezeni-avengersi-17357\n",
      "'NoneType' object is not subscriptable in link: https://www.trefl.com/minionki-w-akcji-13264\n",
      "'NoneType' object is not subscriptable in link: https://www.trefl.com/zabawy-z-kotkami-31388\n",
      "'src' in link: https://www.trefl.com/bing-pierwsze-skojarzenia-02061\n",
      "'NoneType' object is not subscriptable in link: https://www.trefl.com/baby-yoda-16413\n",
      "'NoneType' object is not subscriptable in link: https://www.trefl.com/gotowi-by-pomagac-18244\n",
      "'NoneType' object is not subscriptable in link: https://www.trefl.com/wakacyjna-zabawa-17326\n",
      "'NoneType' object is not subscriptable in link: https://www.trefl.com/pojazdy-strazaka-sama-16354\n",
      "'NoneType' object is not subscriptable in link: https://www.trefl.com/strazak-sam-w-akcji-34844\n",
      "'NoneType' object is not subscriptable in link: https://www.trefl.com/gotowi-do-akcji-17321\n",
      "'NoneType' object is not subscriptable in link: https://www.trefl.com/magiczny-swiat-enchantimals-18236\n",
      "'NoneType' object is not subscriptable in link: https://www.trefl.com/niezwykly-swiat-dinozaurow-34837\n",
      "'NoneType' object is not subscriptable in link: https://www.trefl.com/wyscig-na-torach-18230\n",
      "'NoneType' object is not subscriptable in link: https://www.trefl.com/bob-i-wendy-17300\n",
      "'src' in link: https://www.trefl.com/kostki-do-ukladania-las\n",
      "'src' in link: https://www.trefl.com/dzien-peppy-90600\n",
      "'src' in link: https://www.trefl.com/baby-cubes-na-farmie-little-planet\n",
      "'NoneType' object is not subscriptable in link: https://www.trefl.com/budapeszt-wegry-37395\n",
      "'NoneType' object is not subscriptable in link: https://www.trefl.com/puchar-polski-10633\n",
      "'NoneType' object is not subscriptable in link: https://www.trefl.com/puzzle-mariusz-wlazly\n",
      "'NoneType' object is not subscriptable in link: https://www.trefl.com/paris-france-37456\n",
      "'NoneType' object is not subscriptable in link: https://www.trefl.com/maze-of-colors-37460\n",
      "'NoneType' object is not subscriptable in link: https://www.trefl.com/over-the-water-37459\n",
      "'NoneType' object is not subscriptable in link: https://www.trefl.com/cappadocia-turkey-37458\n",
      "'NoneType' object is not subscriptable in link: https://www.trefl.com/nowosc-ss23-37455\n",
      "'NoneType' object is not subscriptable in link: https://www.trefl.com/tiger-encounter-37453\n",
      "'NoneType' object is not subscriptable in link: https://www.trefl.com/venice-italy-37457\n",
      "'NoneType' object is not subscriptable in link: https://www.trefl.com/hypnotizing-gaze-37454\n",
      "'src' in link: https://www.trefl.com/the-journey-of-thousand-miles-81025\n",
      "'src' in link: https://www.trefl.com/not-so-classic-art-collection-81021\n",
      "'src' in link: https://www.trefl.com/the-greatest-disney-collection-81020\n",
      "'src' in link: https://www.trefl.com/the-ultimate-marvel-collection-81024\n",
      "'NoneType' object is not subscriptable in link: https://www.trefl.com/pamiatki-z-hogwartu-37400\n",
      "'NoneType' object is not subscriptable in link: https://www.trefl.com/portret-tygrysa-37397\n",
      "'NoneType' object is not subscriptable in link: https://www.trefl.com/most-rialto-wenecja-37398\n",
      "'NoneType' object is not subscriptable in link: https://www.trefl.com/rovinj-chorwacja-27114\n",
      "'NoneType' object is not subscriptable in link: https://www.trefl.com/widok-na-kapadocje-10613\n",
      "'NoneType' object is not subscriptable in link: https://www.trefl.com/minionki-29049\n",
      "'NoneType' object is not subscriptable in link: https://www.trefl.com/podroz-do-wloch-29505\n",
      "'NoneType' object is not subscriptable in link: https://www.trefl.com/puszysta-ekipa-29504\n",
      "'NoneType' object is not subscriptable in link: https://www.trefl.com/latarnia-morska-w-melagavi-10436\n",
      "'NoneType' object is not subscriptable in link: https://www.trefl.com/zachod-slonca-nad-santorini-10435\n",
      "'NoneType' object is not subscriptable in link: https://www.trefl.com/londyn-o-swicie-10395\n",
      "'NoneType' object is not subscriptable in link: https://www.trefl.com/nowy-jork-o-swicie\n"
     ]
    }
   ],
   "source": [
    "image_and_category_dict, bad_links = get_list_of_images_and_age_categories(all_links)\n",
    "img_response = requests.get(list(image_and_category_dict.keys())[0], stream=True)\n",
    "img = Image.open(img_response.raw)\n",
    "img.show()"
   ]
  },
  {
   "cell_type": "code",
   "execution_count": 99,
   "metadata": {},
   "outputs": [
    {
     "data": {
      "text/plain": [
       "484"
      ]
     },
     "execution_count": 99,
     "metadata": {},
     "output_type": "execute_result"
    }
   ],
   "source": [
    "len(image_and_category_dict)"
   ]
  },
  {
   "cell_type": "code",
   "execution_count": 100,
   "metadata": {},
   "outputs": [
    {
     "data": {
      "text/plain": [
       "38"
      ]
     },
     "execution_count": 100,
     "metadata": {},
     "output_type": "execute_result"
    }
   ],
   "source": [
    "len(bad_links)"
   ]
  },
  {
   "cell_type": "code",
   "execution_count": 101,
   "metadata": {},
   "outputs": [],
   "source": [
    "for key, value in image_and_category_dict.items():\n",
    "    if not os.path.exists(value):\n",
    "        os.makedirs(value)\n",
    "    response = requests.get(key)\n",
    "    image_name = f\"{key.split('/')[-1]}.png\"\n",
    "    image_path = os.path.join(value, image_name)\n",
    "    image = response.content\n",
    "    with open (image_path, 'wb') as file:\n",
    "        file.write(image)"
   ]
  },
  {
   "cell_type": "code",
   "execution_count": null,
   "metadata": {},
   "outputs": [],
   "source": []
  }
 ],
 "metadata": {
  "kernelspec": {
   "display_name": "Python 3",
   "language": "python",
   "name": "python3"
  },
  "language_info": {
   "codemirror_mode": {
    "name": "ipython",
    "version": 3
   },
   "file_extension": ".py",
   "mimetype": "text/x-python",
   "name": "python",
   "nbconvert_exporter": "python",
   "pygments_lexer": "ipython3",
   "version": "3.10.10"
  },
  "orig_nbformat": 4
 },
 "nbformat": 4,
 "nbformat_minor": 2
}
