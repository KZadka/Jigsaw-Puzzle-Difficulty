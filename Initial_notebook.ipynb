{
 "cells": [
  {
   "cell_type": "code",
   "execution_count": 82,
   "metadata": {},
   "outputs": [],
   "source": [
    "import requests\n",
    "from bs4 import BeautifulSoup\n",
    "import pandas as pd\n",
    "from PIL import Image\n",
    "import os\n",
    "import re\n",
    "import numpy as np\n",
    "import tensorflow as tf\n",
    "from tensorflow import keras\n",
    "from keras.preprocessing.image import ImageDataGenerator\n",
    "import matplotlib.pyplot as plt"
   ]
  },
  {
   "cell_type": "code",
   "execution_count": 2,
   "metadata": {},
   "outputs": [],
   "source": [
    "kids_puzzles_url = 'https://www.trefl.com/puzzle/dla-dzieci?product_list_limit=all'\n",
    "adults_puzzles_url = 'https://www.trefl.com/puzzle/dla-doroslych?product_list_limit=all'"
   ]
  },
  {
   "cell_type": "code",
   "execution_count": 2,
   "metadata": {},
   "outputs": [],
   "source": [
    "def get_links(content):\n",
    "    soup = BeautifulSoup(content, 'html.parser')\n",
    "    puzzles_list = soup.find('body')\n",
    "    puzzles_list_items = puzzles_list.find('ol')\n",
    "    list_items = puzzles_list_items.find_all('li')\n",
    "    links = []\n",
    "\n",
    "    for puzzles in list_items:\n",
    "        a = puzzles.select_one('a')\n",
    "        if 'href' in a.attrs:\n",
    "            link_url = a.get('href')\n",
    "        links.append(link_url)\n",
    "    return links"
   ]
  },
  {
   "cell_type": "code",
   "execution_count": 3,
   "metadata": {},
   "outputs": [],
   "source": [
    "def get_list_of_images_and_age_categories(links):\n",
    "    excluded_keywords = ['panoramiczne', 'drewniane', 'Megabox']\n",
    "    image_and_category_dict = {}\n",
    "    invalid_links = []\n",
    "    if len(image_and_category_dict) / 50 == 0:\n",
    "                    print(f'Dict have {len(image_and_category_dict)} items.')\n",
    "    for link in links:\n",
    "        response = requests.get(link)\n",
    "        html_content = response.text\n",
    "        soup = BeautifulSoup(html_content, \"html.parser\")\n",
    "\n",
    "        try:\n",
    "            keywords = soup.find('meta', attrs={'name': 'keywords'})['content']\n",
    "        except Exception as e:\n",
    "            print(f'{e} in link: {link}')\n",
    "        else:\n",
    "            if any([keyword in keywords for keyword in excluded_keywords]):\n",
    "                continue\n",
    "        \n",
    "            elements = soup.find_all('div', class_ = 'product-content__img')\n",
    "            category = soup.find_all('div', class_ = 'c-product-attributes')\n",
    "            years = BeautifulSoup(str(category[0])).div   \n",
    "            if len(category) > 1:\n",
    "                years = BeautifulSoup(str(category[1])).div           \n",
    "            tag = BeautifulSoup(str(elements[0])).div\n",
    "            try:\n",
    "                tag_content = tag.img['src']\n",
    "                years_content =  re.split(r\"([0-9]+)\", years.img['src'])[-2]\n",
    "            except Exception as e:\n",
    "                invalid_links.append(link)\n",
    "                print(f'{e} in link: {link}')\n",
    "            else:\n",
    "                image_and_category_dict[tag_content] = years_content\n",
    "    return image_and_category_dict, invalid_links\n"
   ]
  },
  {
   "cell_type": "code",
   "execution_count": 72,
   "metadata": {},
   "outputs": [],
   "source": [
    "first_batch_of_links = get_links((requests.get(kids_puzzles_url)).text)\n",
    "second_batch_of_links = get_links((requests.get(adults_puzzles_url)).text)"
   ]
  },
  {
   "cell_type": "code",
   "execution_count": 97,
   "metadata": {},
   "outputs": [
    {
     "name": "stdout",
     "output_type": "stream",
     "text": [
      "332\n",
      "351\n",
      "683\n"
     ]
    }
   ],
   "source": [
    "print(len(first_batch_of_links))\n",
    "print(len(second_batch_of_links))\n",
    "all_links = first_batch_of_links + second_batch_of_links\n",
    "print(len(all_links))"
   ]
  },
  {
   "cell_type": "code",
   "execution_count": 98,
   "metadata": {},
   "outputs": [
    {
     "name": "stdout",
     "output_type": "stream",
     "text": [
      "Dict have 0 items.\n",
      "'NoneType' object is not subscriptable in link: https://www.trefl.com/w-swiecie-transformers-23024\n",
      "'NoneType' object is not subscriptable in link: https://www.trefl.com/urocze-bobaski-31414\n",
      "'src' in link: https://www.trefl.com/sorter-kolorow-93162\n",
      "'NoneType' object is not subscriptable in link: https://www.trefl.com/treflikowy-dzien-93166\n",
      "'NoneType' object is not subscriptable in link: https://www.trefl.com/farma-44000\n",
      "'NoneType' object is not subscriptable in link: https://www.trefl.com/zabawny-swiat-binga-93165\n",
      "'NoneType' object is not subscriptable in link: https://www.trefl.com/zabawy-peppy-93164\n",
      "'src' in link: https://www.trefl.com/rybka-minimini-36125\n",
      "'NoneType' object is not subscriptable in link: https://www.trefl.com/bohaterski-spider-man-34384\n",
      "'NoneType' object is not subscriptable in link: https://www.trefl.com/niezwyciezeni-avengersi-17357\n",
      "'NoneType' object is not subscriptable in link: https://www.trefl.com/minionki-w-akcji-13264\n",
      "'NoneType' object is not subscriptable in link: https://www.trefl.com/zabawy-z-kotkami-31388\n",
      "'src' in link: https://www.trefl.com/bing-pierwsze-skojarzenia-02061\n",
      "'NoneType' object is not subscriptable in link: https://www.trefl.com/baby-yoda-16413\n",
      "'NoneType' object is not subscriptable in link: https://www.trefl.com/gotowi-by-pomagac-18244\n",
      "'NoneType' object is not subscriptable in link: https://www.trefl.com/wakacyjna-zabawa-17326\n",
      "'NoneType' object is not subscriptable in link: https://www.trefl.com/pojazdy-strazaka-sama-16354\n",
      "'NoneType' object is not subscriptable in link: https://www.trefl.com/strazak-sam-w-akcji-34844\n",
      "'NoneType' object is not subscriptable in link: https://www.trefl.com/gotowi-do-akcji-17321\n",
      "'NoneType' object is not subscriptable in link: https://www.trefl.com/magiczny-swiat-enchantimals-18236\n",
      "'NoneType' object is not subscriptable in link: https://www.trefl.com/niezwykly-swiat-dinozaurow-34837\n",
      "'NoneType' object is not subscriptable in link: https://www.trefl.com/wyscig-na-torach-18230\n",
      "'NoneType' object is not subscriptable in link: https://www.trefl.com/bob-i-wendy-17300\n",
      "'src' in link: https://www.trefl.com/kostki-do-ukladania-las\n",
      "'src' in link: https://www.trefl.com/dzien-peppy-90600\n",
      "'src' in link: https://www.trefl.com/baby-cubes-na-farmie-little-planet\n",
      "'NoneType' object is not subscriptable in link: https://www.trefl.com/budapeszt-wegry-37395\n",
      "'NoneType' object is not subscriptable in link: https://www.trefl.com/puchar-polski-10633\n",
      "'NoneType' object is not subscriptable in link: https://www.trefl.com/puzzle-mariusz-wlazly\n",
      "'NoneType' object is not subscriptable in link: https://www.trefl.com/paris-france-37456\n",
      "'NoneType' object is not subscriptable in link: https://www.trefl.com/maze-of-colors-37460\n",
      "'NoneType' object is not subscriptable in link: https://www.trefl.com/over-the-water-37459\n",
      "'NoneType' object is not subscriptable in link: https://www.trefl.com/cappadocia-turkey-37458\n",
      "'NoneType' object is not subscriptable in link: https://www.trefl.com/nowosc-ss23-37455\n",
      "'NoneType' object is not subscriptable in link: https://www.trefl.com/tiger-encounter-37453\n",
      "'NoneType' object is not subscriptable in link: https://www.trefl.com/venice-italy-37457\n",
      "'NoneType' object is not subscriptable in link: https://www.trefl.com/hypnotizing-gaze-37454\n",
      "'src' in link: https://www.trefl.com/the-journey-of-thousand-miles-81025\n",
      "'src' in link: https://www.trefl.com/not-so-classic-art-collection-81021\n",
      "'src' in link: https://www.trefl.com/the-greatest-disney-collection-81020\n",
      "'src' in link: https://www.trefl.com/the-ultimate-marvel-collection-81024\n",
      "'NoneType' object is not subscriptable in link: https://www.trefl.com/pamiatki-z-hogwartu-37400\n",
      "'NoneType' object is not subscriptable in link: https://www.trefl.com/portret-tygrysa-37397\n",
      "'NoneType' object is not subscriptable in link: https://www.trefl.com/most-rialto-wenecja-37398\n",
      "'NoneType' object is not subscriptable in link: https://www.trefl.com/rovinj-chorwacja-27114\n",
      "'NoneType' object is not subscriptable in link: https://www.trefl.com/widok-na-kapadocje-10613\n",
      "'NoneType' object is not subscriptable in link: https://www.trefl.com/minionki-29049\n",
      "'NoneType' object is not subscriptable in link: https://www.trefl.com/podroz-do-wloch-29505\n",
      "'NoneType' object is not subscriptable in link: https://www.trefl.com/puszysta-ekipa-29504\n",
      "'NoneType' object is not subscriptable in link: https://www.trefl.com/latarnia-morska-w-melagavi-10436\n",
      "'NoneType' object is not subscriptable in link: https://www.trefl.com/zachod-slonca-nad-santorini-10435\n",
      "'NoneType' object is not subscriptable in link: https://www.trefl.com/londyn-o-swicie-10395\n",
      "'NoneType' object is not subscriptable in link: https://www.trefl.com/nowy-jork-o-swicie\n"
     ]
    }
   ],
   "source": [
    "image_and_category_dict, bad_links = get_list_of_images_and_age_categories(all_links)\n",
    "img_response = requests.get(list(image_and_category_dict.keys())[0], stream=True)\n",
    "img = Image.open(img_response.raw)\n",
    "img.show()"
   ]
  },
  {
   "cell_type": "code",
   "execution_count": 99,
   "metadata": {},
   "outputs": [
    {
     "data": {
      "text/plain": [
       "484"
      ]
     },
     "execution_count": 99,
     "metadata": {},
     "output_type": "execute_result"
    }
   ],
   "source": [
    "len(image_and_category_dict)"
   ]
  },
  {
   "cell_type": "code",
   "execution_count": 100,
   "metadata": {},
   "outputs": [
    {
     "data": {
      "text/plain": [
       "38"
      ]
     },
     "execution_count": 100,
     "metadata": {},
     "output_type": "execute_result"
    }
   ],
   "source": [
    "len(bad_links)"
   ]
  },
  {
   "cell_type": "code",
   "execution_count": 101,
   "metadata": {},
   "outputs": [],
   "source": [
    "for key, value in image_and_category_dict.items():\n",
    "    if not os.path.exists(value):\n",
    "        os.makedirs(value)\n",
    "    response = requests.get(key)\n",
    "    image_name = f\"{key.split('/')[-1]}.png\"\n",
    "    image_path = os.path.join(value, image_name)\n",
    "    image = response.content\n",
    "    with open (image_path, 'wb') as file:\n",
    "        file.write(image)"
   ]
  },
  {
   "attachments": {},
   "cell_type": "markdown",
   "metadata": {},
   "source": [
    "### Model"
   ]
  },
  {
   "cell_type": "code",
   "execution_count": 2,
   "metadata": {},
   "outputs": [],
   "source": [
    "main_path = f'{os.getcwd()}\\images'\n",
    "image_size = (500, 500)\n",
    "\n",
    "image_generator = ImageDataGenerator(\n",
    "    rescale = 1.0 / 255.0,\n",
    "    validation_split = 0.2\n",
    ")"
   ]
  },
  {
   "cell_type": "code",
   "execution_count": 3,
   "metadata": {},
   "outputs": [
    {
     "name": "stdout",
     "output_type": "stream",
     "text": [
      "Found 386 images belonging to 11 classes.\n"
     ]
    }
   ],
   "source": [
    "X_train = image_generator.flow_from_directory(\n",
    "    directory= main_path,\n",
    "    target_size= image_size,\n",
    "    batch_size= 16,\n",
    "    subset= 'training'\n",
    ")"
   ]
  },
  {
   "cell_type": "code",
   "execution_count": 4,
   "metadata": {},
   "outputs": [
    {
     "name": "stdout",
     "output_type": "stream",
     "text": [
      "Found 92 images belonging to 11 classes.\n"
     ]
    }
   ],
   "source": [
    "X_val = image_generator.flow_from_directory(\n",
    "    directory= main_path,\n",
    "    target_size= image_size,\n",
    "    batch_size= 16,\n",
    "    subset= 'validation'\n",
    ")"
   ]
  },
  {
   "cell_type": "code",
   "execution_count": 65,
   "metadata": {},
   "outputs": [],
   "source": [
    "model = keras.models.Sequential([\n",
    "    keras.layers.Conv2D(16, (3, 3), activation= 'relu', input_shape = (500, 500, 3)),\n",
    "    keras.layers.MaxPooling2D((2, 2)),\n",
    "    keras.layers.Conv2D(32, (3, 3), activation= 'relu'),\n",
    "    keras.layers.MaxPooling2D((2, 2)),\n",
    "    keras.layers.Conv2D(64, (3, 3), activation='relu'),\n",
    "    keras.layers.MaxPooling2D((2, 2)),\n",
    "    keras.layers.Flatten(),\n",
    "    keras.layers.Dense(128, activation='relu'),\n",
    "    keras.layers.Dense(11, activation= 'softmax')\n",
    "])"
   ]
  },
  {
   "cell_type": "code",
   "execution_count": 66,
   "metadata": {},
   "outputs": [],
   "source": [
    "model.compile(optimizer= 'adam',\n",
    "              loss= 'categorical_crossentropy',\n",
    "              metrics= ['accuracy'])"
   ]
  },
  {
   "cell_type": "code",
   "execution_count": 67,
   "metadata": {},
   "outputs": [
    {
     "name": "stdout",
     "output_type": "stream",
     "text": [
      "Epoch 1/20\n"
     ]
    },
    {
     "name": "stderr",
     "output_type": "stream",
     "text": [
      "c:\\Users\\kzadk\\AppData\\Local\\Programs\\Python\\Python310\\lib\\site-packages\\PIL\\Image.py:992: UserWarning: Palette images with Transparency expressed in bytes should be converted to RGBA images\n",
      "  warnings.warn(\n"
     ]
    },
    {
     "name": "stdout",
     "output_type": "stream",
     "text": [
      "25/25 [==============================] - 16s 601ms/step - loss: 3.3582 - accuracy: 0.3679 - val_loss: 1.7987 - val_accuracy: 0.3152\n",
      "Epoch 2/20\n",
      "25/25 [==============================] - 15s 593ms/step - loss: 1.2617 - accuracy: 0.5959 - val_loss: 1.5461 - val_accuracy: 0.4891\n",
      "Epoch 3/20\n",
      "25/25 [==============================] - 15s 613ms/step - loss: 0.7790 - accuracy: 0.7461 - val_loss: 1.6362 - val_accuracy: 0.4783\n",
      "Epoch 4/20\n",
      "25/25 [==============================] - 15s 598ms/step - loss: 0.3427 - accuracy: 0.9067 - val_loss: 1.6036 - val_accuracy: 0.5543\n",
      "Epoch 5/20\n",
      "25/25 [==============================] - 16s 617ms/step - loss: 0.0683 - accuracy: 0.9922 - val_loss: 2.0180 - val_accuracy: 0.5652\n",
      "Epoch 6/20\n",
      "25/25 [==============================] - 15s 603ms/step - loss: 0.0108 - accuracy: 1.0000 - val_loss: 2.3502 - val_accuracy: 0.5761\n",
      "Epoch 7/20\n",
      "25/25 [==============================] - 16s 623ms/step - loss: 0.0090 - accuracy: 0.9974 - val_loss: 2.1075 - val_accuracy: 0.5652\n",
      "Epoch 8/20\n",
      "25/25 [==============================] - 25s 1s/step - loss: 0.0032 - accuracy: 1.0000 - val_loss: 2.5285 - val_accuracy: 0.5652\n",
      "Epoch 9/20\n",
      "25/25 [==============================] - 25s 1s/step - loss: 0.0011 - accuracy: 1.0000 - val_loss: 2.4407 - val_accuracy: 0.5326\n",
      "Epoch 10/20\n",
      "25/25 [==============================] - 25s 1s/step - loss: 5.7274e-04 - accuracy: 1.0000 - val_loss: 2.5122 - val_accuracy: 0.5326\n",
      "Epoch 11/20\n",
      "25/25 [==============================] - 25s 998ms/step - loss: 4.3695e-04 - accuracy: 1.0000 - val_loss: 2.5784 - val_accuracy: 0.5326\n",
      "Epoch 12/20\n",
      "25/25 [==============================] - 25s 1s/step - loss: 3.4517e-04 - accuracy: 1.0000 - val_loss: 2.6095 - val_accuracy: 0.5435\n",
      "Epoch 13/20\n",
      "25/25 [==============================] - 25s 1s/step - loss: 2.8697e-04 - accuracy: 1.0000 - val_loss: 2.6507 - val_accuracy: 0.5435\n",
      "Epoch 14/20\n",
      "25/25 [==============================] - 25s 1s/step - loss: 2.4677e-04 - accuracy: 1.0000 - val_loss: 2.6838 - val_accuracy: 0.5435\n",
      "Epoch 15/20\n",
      "25/25 [==============================] - 25s 1s/step - loss: 2.1283e-04 - accuracy: 1.0000 - val_loss: 2.7149 - val_accuracy: 0.5326\n",
      "Epoch 16/20\n",
      "25/25 [==============================] - 25s 998ms/step - loss: 1.8714e-04 - accuracy: 1.0000 - val_loss: 2.7507 - val_accuracy: 0.5435\n",
      "Epoch 17/20\n",
      "25/25 [==============================] - 25s 996ms/step - loss: 1.6621e-04 - accuracy: 1.0000 - val_loss: 2.7942 - val_accuracy: 0.5326\n",
      "Epoch 18/20\n",
      "25/25 [==============================] - 25s 996ms/step - loss: 1.4962e-04 - accuracy: 1.0000 - val_loss: 2.8285 - val_accuracy: 0.5217\n",
      "Epoch 19/20\n",
      "25/25 [==============================] - 25s 990ms/step - loss: 1.3336e-04 - accuracy: 1.0000 - val_loss: 2.8342 - val_accuracy: 0.5326\n",
      "Epoch 20/20\n",
      "25/25 [==============================] - 25s 987ms/step - loss: 1.2182e-04 - accuracy: 1.0000 - val_loss: 2.8334 - val_accuracy: 0.5326\n"
     ]
    }
   ],
   "source": [
    "custom_model_history = model.fit(X_train, epochs= 20, validation_data= X_val)"
   ]
  },
  {
   "attachments": {},
   "cell_type": "markdown",
   "metadata": {},
   "source": [
    "### Pretrained ResNet50 model\n"
   ]
  },
  {
   "cell_type": "code",
   "execution_count": 30,
   "metadata": {},
   "outputs": [],
   "source": [
    "from keras.applications.resnet import ResNet50\n",
    "from keras.applications.resnet import preprocess_input"
   ]
  },
  {
   "cell_type": "code",
   "execution_count": 63,
   "metadata": {},
   "outputs": [
    {
     "name": "stdout",
     "output_type": "stream",
     "text": [
      "Epoch 1/5\n",
      "25/25 [==============================] - 86s 3s/step - loss: 72.0291 - accuracy: 0.2383 - val_loss: 44.3849 - val_accuracy: 0.3043\n",
      "Epoch 2/5\n",
      "25/25 [==============================] - 95s 4s/step - loss: 21.8146 - accuracy: 0.3731 - val_loss: 15.7189 - val_accuracy: 0.0652\n",
      "Epoch 3/5\n",
      "25/25 [==============================] - 95s 4s/step - loss: 9.4636 - accuracy: 0.4508 - val_loss: 8.7161 - val_accuracy: 0.4348\n",
      "Epoch 4/5\n",
      "25/25 [==============================] - 64s 3s/step - loss: 4.1505 - accuracy: 0.5181 - val_loss: 2.7175 - val_accuracy: 0.2500\n",
      "Epoch 5/5\n",
      "25/25 [==============================] - 67s 3s/step - loss: 2.0948 - accuracy: 0.3446 - val_loss: 2.5549 - val_accuracy: 0.2500\n",
      "Epoch 1/20\n",
      "25/25 [==============================] - 49s 2s/step - loss: 2.0301 - accuracy: 0.3782 - val_loss: 2.4523 - val_accuracy: 0.3261\n",
      "Epoch 2/20\n",
      "25/25 [==============================] - 49s 2s/step - loss: 2.2953 - accuracy: 0.2953 - val_loss: 2.3610 - val_accuracy: 0.2609\n",
      "Epoch 3/20\n",
      "25/25 [==============================] - 49s 2s/step - loss: 2.3584 - accuracy: 0.2461 - val_loss: 2.3527 - val_accuracy: 0.3261\n",
      "Epoch 4/20\n",
      "25/25 [==============================] - 62s 3s/step - loss: 2.3483 - accuracy: 0.3109 - val_loss: 2.3382 - val_accuracy: 0.3261\n",
      "Epoch 5/20\n",
      "25/25 [==============================] - 95s 4s/step - loss: 2.3345 - accuracy: 0.3109 - val_loss: 2.3239 - val_accuracy: 0.3261\n",
      "Epoch 6/20\n",
      "25/25 [==============================] - 95s 4s/step - loss: 2.3203 - accuracy: 0.3109 - val_loss: 2.3096 - val_accuracy: 0.3261\n",
      "Epoch 7/20\n",
      "25/25 [==============================] - 83s 3s/step - loss: 2.3072 - accuracy: 0.3109 - val_loss: 2.2959 - val_accuracy: 0.3152\n",
      "Epoch 8/20\n",
      "25/25 [==============================] - 48s 2s/step - loss: 2.2941 - accuracy: 0.3109 - val_loss: 2.2825 - val_accuracy: 0.3152\n",
      "Epoch 9/20\n",
      "25/25 [==============================] - 79s 3s/step - loss: 2.2809 - accuracy: 0.3109 - val_loss: 2.2685 - val_accuracy: 0.3152\n",
      "Epoch 10/20\n",
      "25/25 [==============================] - 81s 3s/step - loss: 2.2685 - accuracy: 0.3109 - val_loss: 2.2560 - val_accuracy: 0.3152\n",
      "Epoch 11/20\n",
      "25/25 [==============================] - 90s 4s/step - loss: 2.2563 - accuracy: 0.3109 - val_loss: 2.2435 - val_accuracy: 0.3152\n",
      "Epoch 12/20\n",
      "25/25 [==============================] - 86s 3s/step - loss: 2.2447 - accuracy: 0.3109 - val_loss: 2.2321 - val_accuracy: 0.3152\n",
      "Epoch 13/20\n",
      "25/25 [==============================] - 79s 3s/step - loss: 2.2340 - accuracy: 0.3109 - val_loss: 2.2209 - val_accuracy: 0.3152\n",
      "Epoch 14/20\n",
      "25/25 [==============================] - 95s 4s/step - loss: 2.2230 - accuracy: 0.3109 - val_loss: 2.2095 - val_accuracy: 0.3152\n",
      "Epoch 15/20\n",
      "25/25 [==============================] - 49s 2s/step - loss: 2.2125 - accuracy: 0.3109 - val_loss: 2.1986 - val_accuracy: 0.3152\n",
      "Epoch 16/20\n",
      "25/25 [==============================] - 48s 2s/step - loss: 2.2015 - accuracy: 0.3109 - val_loss: 2.1876 - val_accuracy: 0.3152\n",
      "Epoch 17/20\n",
      "25/25 [==============================] - 48s 2s/step - loss: 2.1914 - accuracy: 0.3109 - val_loss: 2.1767 - val_accuracy: 0.3152\n",
      "Epoch 18/20\n",
      "25/25 [==============================] - 49s 2s/step - loss: 2.1818 - accuracy: 0.3109 - val_loss: 2.1663 - val_accuracy: 0.3152\n",
      "Epoch 19/20\n",
      "25/25 [==============================] - 48s 2s/step - loss: 2.1720 - accuracy: 0.3109 - val_loss: 2.1567 - val_accuracy: 0.3152\n",
      "Epoch 20/20\n",
      "25/25 [==============================] - 48s 2s/step - loss: 2.1628 - accuracy: 0.3109 - val_loss: 2.1469 - val_accuracy: 0.3152\n"
     ]
    }
   ],
   "source": [
    "base_model = ResNet50(weights= 'imagenet', include_top = False, input_shape= (500, 500, 3))\n",
    "\n",
    "for layer in base_model.layers:\n",
    "    layer.trainable = False\n",
    "\n",
    "flatten_layer = keras.layers.Flatten()(base_model.output)\n",
    "dense_layer = keras.layers.Dense(128, activation = 'relu')(flatten_layer)\n",
    "output_layer = keras.layers.Dense(11, activation= 'softmax')(dense_layer)\n",
    "\n",
    "resnet_model = keras.models.Model(inputs = base_model.input, outputs = output_layer)\n",
    "\n",
    "resnet_model.compile(optimizer= 'adam',\n",
    "                     loss = 'categorical_crossentropy',\n",
    "                     metrics= ['accuracy'])\n",
    "\n",
    "resnet_model.fit(X_train, epochs= 5, validation_data= X_val)\n",
    "\n",
    "for layer in base_model.layers:\n",
    "    layer.trainable = True\n",
    "\n",
    "resnet_model_history = resnet_model.fit(X_train, epochs= 20, validation_data= X_val)"
   ]
  },
  {
   "cell_type": "code",
   "execution_count": 70,
   "metadata": {},
   "outputs": [
    {
     "data": {
      "text/plain": [
       "<Axes: >"
      ]
     },
     "execution_count": 70,
     "metadata": {},
     "output_type": "execute_result"
    },
    {
     "data": {
      "image/png": "[encoded data removed]",
      "text/plain": [
       "<Figure size 1000x500 with 1 Axes>"
      ]
     },
     "metadata": {},
     "output_type": "display_data"
    }
   ],
   "source": [
    "pd.DataFrame(custom_model_history.history).plot(figsize=(10, 5))"
   ]
  },
  {
   "cell_type": "code",
   "execution_count": 64,
   "metadata": {},
   "outputs": [
    {
     "data": {
      "text/plain": [
       "<Axes: >"
      ]
     },
     "execution_count": 64,
     "metadata": {},
     "output_type": "execute_result"
    },
    {
     "data": {
      "image/png": "[encoded data removed]",
      "text/plain": [
       "<Figure size 1000x500 with 1 Axes>"
      ]
     },
     "metadata": {},
     "output_type": "display_data"
    }
   ],
   "source": [
    "pd.DataFrame(resnet_model_history.history).plot(figsize=(10, 5))"
   ]
  },
  {
   "attachments": {},
   "cell_type": "markdown",
   "metadata": {},
   "source": [
    "## Same models but with regression"
   ]
  },
  {
   "attachments": {},
   "cell_type": "markdown",
   "metadata": {},
   "source": [
    "##### Custom model"
   ]
  },
  {
   "cell_type": "code",
   "execution_count": 26,
   "metadata": {},
   "outputs": [
    {
     "name": "stdout",
     "output_type": "stream",
     "text": [
      "Epoch 1/10\n"
     ]
    },
    {
     "name": "stderr",
     "output_type": "stream",
     "text": [
      "c:\\Users\\kzadk\\AppData\\Local\\Programs\\Python\\Python310\\lib\\site-packages\\PIL\\Image.py:992: UserWarning: Palette images with Transparency expressed in bytes should be converted to RGBA images\n",
      "  warnings.warn(\n"
     ]
    },
    {
     "name": "stdout",
     "output_type": "stream",
     "text": [
      "25/25 [==============================] - 17s 671ms/step - loss: 79.6598 - mean_absolute_error: 2.3685 - val_loss: 0.0867 - val_mean_absolute_error: 0.1228\n",
      "Epoch 2/10\n",
      "25/25 [==============================] - 16s 643ms/step - loss: 0.0870 - mean_absolute_error: 0.1862 - val_loss: 0.0845 - val_mean_absolute_error: 0.1320\n",
      "Epoch 3/10\n",
      "25/25 [==============================] - 16s 635ms/step - loss: 0.0839 - mean_absolute_error: 0.1655 - val_loss: 0.0829 - val_mean_absolute_error: 0.1569\n",
      "Epoch 4/10\n",
      "25/25 [==============================] - 16s 638ms/step - loss: 0.0831 - mean_absolute_error: 0.1629 - val_loss: 0.0828 - val_mean_absolute_error: 0.1611\n",
      "Epoch 5/10\n",
      "25/25 [==============================] - 20s 810ms/step - loss: 0.0829 - mean_absolute_error: 0.1642 - val_loss: 0.0828 - val_mean_absolute_error: 0.1641\n",
      "Epoch 6/10\n",
      "25/25 [==============================] - 26s 1s/step - loss: 0.0829 - mean_absolute_error: 0.1640 - val_loss: 0.0827 - val_mean_absolute_error: 0.1647\n",
      "Epoch 7/10\n",
      "25/25 [==============================] - 26s 1s/step - loss: 0.0828 - mean_absolute_error: 0.1646 - val_loss: 0.0827 - val_mean_absolute_error: 0.1654\n",
      "Epoch 8/10\n",
      "25/25 [==============================] - 26s 1s/step - loss: 0.0828 - mean_absolute_error: 0.1643 - val_loss: 0.0827 - val_mean_absolute_error: 0.1655\n",
      "Epoch 9/10\n",
      "25/25 [==============================] - 27s 1s/step - loss: 0.0828 - mean_absolute_error: 0.1645 - val_loss: 0.0827 - val_mean_absolute_error: 0.1677\n",
      "Epoch 10/10\n",
      "25/25 [==============================] - 20s 794ms/step - loss: 0.0827 - mean_absolute_error: 0.1645 - val_loss: 0.0828 - val_mean_absolute_error: 0.1679\n"
     ]
    }
   ],
   "source": [
    "reg_model = keras.models.Sequential([\n",
    "    keras.layers.Conv2D(16, (3, 3), activation= 'relu', input_shape = (500, 500, 3)),\n",
    "    keras.layers.MaxPooling2D((2, 2)),\n",
    "    keras.layers.Conv2D(32, (3, 3), activation= 'relu'),\n",
    "    keras.layers.MaxPooling2D((2, 2)),\n",
    "    keras.layers.Conv2D(64, (3, 3), activation='relu'),\n",
    "    keras.layers.MaxPooling2D((2, 2)),\n",
    "    keras.layers.Flatten(),\n",
    "    keras.layers.Dense(128, activation='relu'),\n",
    "    keras.layers.Dense(1)\n",
    "])\n",
    "\n",
    "reg_model.compile(optimizer= 'adam',\n",
    "              loss= 'mean_squared_error',\n",
    "              metrics= ['mean_absolute_error'])\n",
    "\n",
    "custom_reg_model_history = reg_model.fit(X_train,\n",
    "                                         epochs= 10,\n",
    "                                         validation_data= X_val)"
   ]
  },
  {
   "cell_type": "code",
   "execution_count": 19,
   "metadata": {},
   "outputs": [
    {
     "data": {
      "text/plain": [
       "<Axes: >"
      ]
     },
     "execution_count": 19,
     "metadata": {},
     "output_type": "execute_result"
    },
    {
     "data": {
      "image/png": "[encoded data removed]",
      "text/plain": [
       "<Figure size 1000x500 with 1 Axes>"
      ]
     },
     "metadata": {},
     "output_type": "display_data"
    }
   ],
   "source": [
    "pd.DataFrame(custom_reg_model_history.history).plot(figsize=(10, 5))"
   ]
  },
  {
   "cell_type": "code",
   "execution_count": 20,
   "metadata": {},
   "outputs": [
    {
     "data": {
      "text/plain": [
       "<matplotlib.legend.Legend at 0x1ab9184b5b0>"
      ]
     },
     "execution_count": 20,
     "metadata": {},
     "output_type": "execute_result"
    },
    {
     "data": {
      "image/png": "[encoded data removed]",
      "text/plain": [
       "<Figure size 800x600 with 1 Axes>"
      ]
     },
     "metadata": {},
     "output_type": "display_data"
    }
   ],
   "source": [
    "model_history = pd.DataFrame(custom_reg_model_history.history)\n",
    "model_history['epoch'] = custom_reg_model_history.epoch\n",
    "\n",
    "fig, ax = plt.subplots(1, figsize=(8,6))\n",
    "num_epochs = model_history.shape[0]\n",
    "\n",
    "ax.plot(np.arange(0, num_epochs), model_history[\"mean_absolute_error\"], \n",
    "        label=\"Training MAE\")\n",
    "ax.plot(np.arange(0, num_epochs), model_history[\"val_mean_absolute_error\"], \n",
    "        label=\"Validation MAE\")\n",
    "ax.legend()"
   ]
  },
  {
   "attachments": {},
   "cell_type": "markdown",
   "metadata": {},
   "source": [
    "#### Pretrained model"
   ]
  },
  {
   "cell_type": "code",
   "execution_count": 48,
   "metadata": {},
   "outputs": [
    {
     "name": "stdout",
     "output_type": "stream",
     "text": [
      "Epoch 1/5\n"
     ]
    },
    {
     "name": "stderr",
     "output_type": "stream",
     "text": [
      "c:\\Users\\kzadk\\AppData\\Local\\Programs\\Python\\Python310\\lib\\site-packages\\PIL\\Image.py:992: UserWarning: Palette images with Transparency expressed in bytes should be converted to RGBA images\n",
      "  warnings.warn(\n"
     ]
    },
    {
     "name": "stdout",
     "output_type": "stream",
     "text": [
      "25/25 [==============================] - 42s 2s/step - loss: 0.4782 - mean_absolute_error: 0.5454 - val_loss: 0.1189 - val_mean_absolute_error: 0.3036\n",
      "Epoch 2/5\n",
      "25/25 [==============================] - 44s 2s/step - loss: 0.1086 - mean_absolute_error: 0.2121 - val_loss: 0.0888 - val_mean_absolute_error: 0.2023\n",
      "Epoch 3/5\n",
      "25/25 [==============================] - 44s 2s/step - loss: 0.0913 - mean_absolute_error: 0.1847 - val_loss: 0.0881 - val_mean_absolute_error: 0.1384\n",
      "Epoch 4/5\n",
      "25/25 [==============================] - 44s 2s/step - loss: 0.0870 - mean_absolute_error: 0.1724 - val_loss: 0.0862 - val_mean_absolute_error: 0.1503\n",
      "Epoch 5/5\n",
      "25/25 [==============================] - 44s 2s/step - loss: 0.0862 - mean_absolute_error: 0.1657 - val_loss: 0.0856 - val_mean_absolute_error: 0.1816\n",
      "Epoch 1/10\n",
      "25/25 [==============================] - 44s 2s/step - loss: 0.0855 - mean_absolute_error: 0.1709 - val_loss: 0.0851 - val_mean_absolute_error: 0.1684\n",
      "Epoch 2/10\n",
      "25/25 [==============================] - 44s 2s/step - loss: 0.0850 - mean_absolute_error: 0.1684 - val_loss: 0.0850 - val_mean_absolute_error: 0.1694\n",
      "Epoch 3/10\n",
      "25/25 [==============================] - 44s 2s/step - loss: 0.0850 - mean_absolute_error: 0.1669 - val_loss: 0.0859 - val_mean_absolute_error: 0.1927\n",
      "Epoch 4/10\n",
      "25/25 [==============================] - 44s 2s/step - loss: 0.0855 - mean_absolute_error: 0.1700 - val_loss: 0.0868 - val_mean_absolute_error: 0.1355\n",
      "Epoch 5/10\n",
      "25/25 [==============================] - 44s 2s/step - loss: 0.0851 - mean_absolute_error: 0.1672 - val_loss: 0.0865 - val_mean_absolute_error: 0.2007\n",
      "Epoch 6/10\n",
      "25/25 [==============================] - 44s 2s/step - loss: 0.0846 - mean_absolute_error: 0.1687 - val_loss: 0.0846 - val_mean_absolute_error: 0.1639\n",
      "Epoch 7/10\n",
      "25/25 [==============================] - 75s 3s/step - loss: 0.0845 - mean_absolute_error: 0.1661 - val_loss: 0.0858 - val_mean_absolute_error: 0.1950\n",
      "Epoch 8/10\n",
      "25/25 [==============================] - 90s 4s/step - loss: 0.0857 - mean_absolute_error: 0.1686 - val_loss: 0.0864 - val_mean_absolute_error: 0.1360\n",
      "Epoch 9/10\n",
      "25/25 [==============================] - 59s 2s/step - loss: 0.0844 - mean_absolute_error: 0.1646 - val_loss: 0.0844 - val_mean_absolute_error: 0.1660\n",
      "Epoch 10/10\n",
      "25/25 [==============================] - 44s 2s/step - loss: 0.0843 - mean_absolute_error: 0.1667 - val_loss: 0.0848 - val_mean_absolute_error: 0.1504\n"
     ]
    }
   ],
   "source": [
    "base_model = ResNet50(weights= 'imagenet', include_top = False, input_shape= (500, 500, 3))\n",
    "\n",
    "for layer in base_model.layers:\n",
    "    layer.trainable = False\n",
    "\n",
    "global_avg_pooling_layer = keras.layers.GlobalAveragePooling2D()(base_model.output)\n",
    "output_layer = keras.layers.Dense(1)(global_avg_pooling_layer) \n",
    "\n",
    "resnet_reg_model = keras.models.Model(inputs = base_model.input, outputs = output_layer)\n",
    "\n",
    "resnet_reg_model.compile(optimizer= 'adam',\n",
    "                     loss = 'mean_squared_error',\n",
    "                     metrics= ['mean_absolute_error'])\n",
    "\n",
    "resnet_reg_model.fit(X_train, epochs= 5, validation_data= X_val)\n",
    "\n",
    "for layer in base_model.layers:\n",
    "    layer.trainable = True\n",
    "\n",
    "resnet_reg_model_history = resnet_reg_model.fit(X_train, epochs= 10, validation_data= X_val)"
   ]
  },
  {
   "cell_type": "code",
   "execution_count": 60,
   "metadata": {},
   "outputs": [
    {
     "data": {
      "text/plain": [
       "<Axes: >"
      ]
     },
     "execution_count": 60,
     "metadata": {},
     "output_type": "execute_result"
    },
    {
     "data": {
      "image/png": "[encoded data removed]",
      "text/plain": [
       "<Figure size 1000x500 with 1 Axes>"
      ]
     },
     "metadata": {},
     "output_type": "display_data"
    }
   ],
   "source": [
    "pd.DataFrame(resnet_reg_model_history.history).plot(figsize=(10, 5))"
   ]
  },
  {
   "cell_type": "code",
   "execution_count": null,
   "metadata": {},
   "outputs": [],
   "source": [
    "# model.save(fr'{os.getcwd()}\\models\\Custom_classification_model')\n",
    "# resnet_model.save(fr'{os.getcwd()}\\models\\Resnet_classification_model')\n",
    "# reg_model.save(fr'{os.getcwd()}\\models\\Custom_regression_model')\n",
    "# resnet_reg_model.save(fr'{os.getcwd()}\\models\\Resnet_regression_model')"
   ]
  },
  {
   "cell_type": "code",
   "execution_count": 28,
   "metadata": {},
   "outputs": [],
   "source": [
    "loaded_regression_resnet_model = keras.models.load_model(fr'{os.getcwd()}\\models\\Resnet_regression_model')"
   ]
  },
  {
   "cell_type": "code",
   "execution_count": 68,
   "metadata": {},
   "outputs": [],
   "source": [
    "import keras.utils as image"
   ]
  },
  {
   "cell_type": "code",
   "execution_count": 73,
   "metadata": {},
   "outputs": [
    {
     "name": "stderr",
     "output_type": "stream",
     "text": [
      "c:\\Users\\kzadk\\AppData\\Local\\Programs\\Python\\Python310\\lib\\site-packages\\PIL\\Image.py:992: UserWarning: Palette images with Transparency expressed in bytes should be converted to RGBA images\n",
      "  warnings.warn(\n"
     ]
    }
   ],
   "source": [
    "test_images_folder = fr'{os.getcwd()}\\test'\n",
    "test_images = []\n",
    "for img in os.listdir(test_images_folder):\n",
    "    img = os.path.join(test_images_folder, img)\n",
    "    img = image.load_img(img, target_size = (500, 500))\n",
    "    img = np.expand_dims(img, axis = 0)\n",
    "    img = preprocess_input(img)\n",
    "    test_images.append(img)"
   ]
  },
  {
   "cell_type": "code",
   "execution_count": 74,
   "metadata": {},
   "outputs": [
    {
     "name": "stdout",
     "output_type": "stream",
     "text": [
      "[[[[-103.939 -116.779 -123.68 ]\n",
      "   [-103.939 -116.779 -123.68 ]\n",
      "   [-103.939 -116.779 -123.68 ]\n",
      "   ...\n",
      "   [-103.939 -116.779 -123.68 ]\n",
      "   [-103.939 -116.779 -123.68 ]\n",
      "   [-103.939 -116.779 -123.68 ]]\n",
      "\n",
      "  [[-103.939 -116.779 -123.68 ]\n",
      "   [-103.939 -116.779 -123.68 ]\n",
      "   [-103.939 -116.779 -123.68 ]\n",
      "   ...\n",
      "   [-103.939 -116.779 -123.68 ]\n",
      "   [-103.939 -116.779 -123.68 ]\n",
      "   [-103.939 -116.779 -123.68 ]]\n",
      "\n",
      "  [[-103.939 -116.779 -123.68 ]\n",
      "   [-103.939 -116.779 -123.68 ]\n",
      "   [-103.939 -116.779 -123.68 ]\n",
      "   ...\n",
      "   [-103.939 -116.779 -123.68 ]\n",
      "   [-103.939 -116.779 -123.68 ]\n",
      "   [-103.939 -116.779 -123.68 ]]\n",
      "\n",
      "  ...\n",
      "\n",
      "  [[-103.939 -116.779 -123.68 ]\n",
      "   [-103.939 -116.779 -123.68 ]\n",
      "   [-103.939 -116.779 -123.68 ]\n",
      "   ...\n",
      "   [-103.939 -116.779 -123.68 ]\n",
      "   [-103.939 -116.779 -123.68 ]\n",
      "   [-103.939 -116.779 -123.68 ]]\n",
      "\n",
      "  [[-103.939 -116.779 -123.68 ]\n",
      "   [-103.939 -116.779 -123.68 ]\n",
      "   [-103.939 -116.779 -123.68 ]\n",
      "   ...\n",
      "   [-103.939 -116.779 -123.68 ]\n",
      "   [-103.939 -116.779 -123.68 ]\n",
      "   [-103.939 -116.779 -123.68 ]]\n",
      "\n",
      "  [[-103.939 -116.779 -123.68 ]\n",
      "   [-103.939 -116.779 -123.68 ]\n",
      "   [-103.939 -116.779 -123.68 ]\n",
      "   ...\n",
      "   [-103.939 -116.779 -123.68 ]\n",
      "   [-103.939 -116.779 -123.68 ]\n",
      "   [-103.939 -116.779 -123.68 ]]]]\n"
     ]
    }
   ],
   "source": [
    "print(test_images[0])"
   ]
  },
  {
   "cell_type": "code",
   "execution_count": 40,
   "metadata": {},
   "outputs": [
    {
     "name": "stdout",
     "output_type": "stream",
     "text": [
      "Model: \"model_2\"\n",
      "__________________________________________________________________________________________________\n",
      " Layer (type)                   Output Shape         Param #     Connected to                     \n",
      "==================================================================================================\n",
      " input_3 (InputLayer)           [(None, 500, 500, 3  0           []                               \n",
      "                                )]                                                                \n",
      "                                                                                                  \n",
      " conv1_pad (ZeroPadding2D)      (None, 506, 506, 3)  0           ['input_3[0][0]']                \n",
      "                                                                                                  \n",
      " conv1_conv (Conv2D)            (None, 250, 250, 64  9472        ['conv1_pad[0][0]']              \n",
      "                                )                                                                 \n",
      "                                                                                                  \n",
      " conv1_bn (BatchNormalization)  (None, 250, 250, 64  256         ['conv1_conv[0][0]']             \n",
      "                                )                                                                 \n",
      "                                                                                                  \n",
      " conv1_relu (Activation)        (None, 250, 250, 64  0           ['conv1_bn[0][0]']               \n",
      "                                )                                                                 \n",
      "                                                                                                  \n",
      " pool1_pad (ZeroPadding2D)      (None, 252, 252, 64  0           ['conv1_relu[0][0]']             \n",
      "                                )                                                                 \n",
      "                                                                                                  \n",
      " pool1_pool (MaxPooling2D)      (None, 125, 125, 64  0           ['pool1_pad[0][0]']              \n",
      "                                )                                                                 \n",
      "                                                                                                  \n",
      " conv2_block1_1_conv (Conv2D)   (None, 125, 125, 64  4160        ['pool1_pool[0][0]']             \n",
      "                                )                                                                 \n",
      "                                                                                                  \n",
      " conv2_block1_1_bn (BatchNormal  (None, 125, 125, 64  256        ['conv2_block1_1_conv[0][0]']    \n",
      " ization)                       )                                                                 \n",
      "                                                                                                  \n",
      " conv2_block1_1_relu (Activatio  (None, 125, 125, 64  0          ['conv2_block1_1_bn[0][0]']      \n",
      " n)                             )                                                                 \n",
      "                                                                                                  \n",
      " conv2_block1_2_conv (Conv2D)   (None, 125, 125, 64  36928       ['conv2_block1_1_relu[0][0]']    \n",
      "                                )                                                                 \n",
      "                                                                                                  \n",
      " conv2_block1_2_bn (BatchNormal  (None, 125, 125, 64  256        ['conv2_block1_2_conv[0][0]']    \n",
      " ization)                       )                                                                 \n",
      "                                                                                                  \n",
      " conv2_block1_2_relu (Activatio  (None, 125, 125, 64  0          ['conv2_block1_2_bn[0][0]']      \n",
      " n)                             )                                                                 \n",
      "                                                                                                  \n",
      " conv2_block1_0_conv (Conv2D)   (None, 125, 125, 25  16640       ['pool1_pool[0][0]']             \n",
      "                                6)                                                                \n",
      "                                                                                                  \n",
      " conv2_block1_3_conv (Conv2D)   (None, 125, 125, 25  16640       ['conv2_block1_2_relu[0][0]']    \n",
      "                                6)                                                                \n",
      "                                                                                                  \n",
      " conv2_block1_0_bn (BatchNormal  (None, 125, 125, 25  1024       ['conv2_block1_0_conv[0][0]']    \n",
      " ization)                       6)                                                                \n",
      "                                                                                                  \n",
      " conv2_block1_3_bn (BatchNormal  (None, 125, 125, 25  1024       ['conv2_block1_3_conv[0][0]']    \n",
      " ization)                       6)                                                                \n",
      "                                                                                                  \n",
      " conv2_block1_add (Add)         (None, 125, 125, 25  0           ['conv2_block1_0_bn[0][0]',      \n",
      "                                6)                                'conv2_block1_3_bn[0][0]']      \n",
      "                                                                                                  \n",
      " conv2_block1_out (Activation)  (None, 125, 125, 25  0           ['conv2_block1_add[0][0]']       \n",
      "                                6)                                                                \n",
      "                                                                                                  \n",
      " conv2_block2_1_conv (Conv2D)   (None, 125, 125, 64  16448       ['conv2_block1_out[0][0]']       \n",
      "                                )                                                                 \n",
      "                                                                                                  \n",
      " conv2_block2_1_bn (BatchNormal  (None, 125, 125, 64  256        ['conv2_block2_1_conv[0][0]']    \n",
      " ization)                       )                                                                 \n",
      "                                                                                                  \n",
      " conv2_block2_1_relu (Activatio  (None, 125, 125, 64  0          ['conv2_block2_1_bn[0][0]']      \n",
      " n)                             )                                                                 \n",
      "                                                                                                  \n",
      " conv2_block2_2_conv (Conv2D)   (None, 125, 125, 64  36928       ['conv2_block2_1_relu[0][0]']    \n",
      "                                )                                                                 \n",
      "                                                                                                  \n",
      " conv2_block2_2_bn (BatchNormal  (None, 125, 125, 64  256        ['conv2_block2_2_conv[0][0]']    \n",
      " ization)                       )                                                                 \n",
      "                                                                                                  \n",
      " conv2_block2_2_relu (Activatio  (None, 125, 125, 64  0          ['conv2_block2_2_bn[0][0]']      \n",
      " n)                             )                                                                 \n",
      "                                                                                                  \n",
      " conv2_block2_3_conv (Conv2D)   (None, 125, 125, 25  16640       ['conv2_block2_2_relu[0][0]']    \n",
      "                                6)                                                                \n",
      "                                                                                                  \n",
      " conv2_block2_3_bn (BatchNormal  (None, 125, 125, 25  1024       ['conv2_block2_3_conv[0][0]']    \n",
      " ization)                       6)                                                                \n",
      "                                                                                                  \n",
      " conv2_block2_add (Add)         (None, 125, 125, 25  0           ['conv2_block1_out[0][0]',       \n",
      "                                6)                                'conv2_block2_3_bn[0][0]']      \n",
      "                                                                                                  \n",
      " conv2_block2_out (Activation)  (None, 125, 125, 25  0           ['conv2_block2_add[0][0]']       \n",
      "                                6)                                                                \n",
      "                                                                                                  \n",
      " conv2_block3_1_conv (Conv2D)   (None, 125, 125, 64  16448       ['conv2_block2_out[0][0]']       \n",
      "                                )                                                                 \n",
      "                                                                                                  \n",
      " conv2_block3_1_bn (BatchNormal  (None, 125, 125, 64  256        ['conv2_block3_1_conv[0][0]']    \n",
      " ization)                       )                                                                 \n",
      "                                                                                                  \n",
      " conv2_block3_1_relu (Activatio  (None, 125, 125, 64  0          ['conv2_block3_1_bn[0][0]']      \n",
      " n)                             )                                                                 \n",
      "                                                                                                  \n",
      " conv2_block3_2_conv (Conv2D)   (None, 125, 125, 64  36928       ['conv2_block3_1_relu[0][0]']    \n",
      "                                )                                                                 \n",
      "                                                                                                  \n",
      " conv2_block3_2_bn (BatchNormal  (None, 125, 125, 64  256        ['conv2_block3_2_conv[0][0]']    \n",
      " ization)                       )                                                                 \n",
      "                                                                                                  \n",
      " conv2_block3_2_relu (Activatio  (None, 125, 125, 64  0          ['conv2_block3_2_bn[0][0]']      \n",
      " n)                             )                                                                 \n",
      "                                                                                                  \n",
      " conv2_block3_3_conv (Conv2D)   (None, 125, 125, 25  16640       ['conv2_block3_2_relu[0][0]']    \n",
      "                                6)                                                                \n",
      "                                                                                                  \n",
      " conv2_block3_3_bn (BatchNormal  (None, 125, 125, 25  1024       ['conv2_block3_3_conv[0][0]']    \n",
      " ization)                       6)                                                                \n",
      "                                                                                                  \n",
      " conv2_block3_add (Add)         (None, 125, 125, 25  0           ['conv2_block2_out[0][0]',       \n",
      "                                6)                                'conv2_block3_3_bn[0][0]']      \n",
      "                                                                                                  \n",
      " conv2_block3_out (Activation)  (None, 125, 125, 25  0           ['conv2_block3_add[0][0]']       \n",
      "                                6)                                                                \n",
      "                                                                                                  \n",
      " conv3_block1_1_conv (Conv2D)   (None, 63, 63, 128)  32896       ['conv2_block3_out[0][0]']       \n",
      "                                                                                                  \n",
      " conv3_block1_1_bn (BatchNormal  (None, 63, 63, 128)  512        ['conv3_block1_1_conv[0][0]']    \n",
      " ization)                                                                                         \n",
      "                                                                                                  \n",
      " conv3_block1_1_relu (Activatio  (None, 63, 63, 128)  0          ['conv3_block1_1_bn[0][0]']      \n",
      " n)                                                                                               \n",
      "                                                                                                  \n",
      " conv3_block1_2_conv (Conv2D)   (None, 63, 63, 128)  147584      ['conv3_block1_1_relu[0][0]']    \n",
      "                                                                                                  \n",
      " conv3_block1_2_bn (BatchNormal  (None, 63, 63, 128)  512        ['conv3_block1_2_conv[0][0]']    \n",
      " ization)                                                                                         \n",
      "                                                                                                  \n",
      " conv3_block1_2_relu (Activatio  (None, 63, 63, 128)  0          ['conv3_block1_2_bn[0][0]']      \n",
      " n)                                                                                               \n",
      "                                                                                                  \n",
      " conv3_block1_0_conv (Conv2D)   (None, 63, 63, 512)  131584      ['conv2_block3_out[0][0]']       \n",
      "                                                                                                  \n",
      " conv3_block1_3_conv (Conv2D)   (None, 63, 63, 512)  66048       ['conv3_block1_2_relu[0][0]']    \n",
      "                                                                                                  \n",
      " conv3_block1_0_bn (BatchNormal  (None, 63, 63, 512)  2048       ['conv3_block1_0_conv[0][0]']    \n",
      " ization)                                                                                         \n",
      "                                                                                                  \n",
      " conv3_block1_3_bn (BatchNormal  (None, 63, 63, 512)  2048       ['conv3_block1_3_conv[0][0]']    \n",
      " ization)                                                                                         \n",
      "                                                                                                  \n",
      " conv3_block1_add (Add)         (None, 63, 63, 512)  0           ['conv3_block1_0_bn[0][0]',      \n",
      "                                                                  'conv3_block1_3_bn[0][0]']      \n",
      "                                                                                                  \n",
      " conv3_block1_out (Activation)  (None, 63, 63, 512)  0           ['conv3_block1_add[0][0]']       \n",
      "                                                                                                  \n",
      " conv3_block2_1_conv (Conv2D)   (None, 63, 63, 128)  65664       ['conv3_block1_out[0][0]']       \n",
      "                                                                                                  \n",
      " conv3_block2_1_bn (BatchNormal  (None, 63, 63, 128)  512        ['conv3_block2_1_conv[0][0]']    \n",
      " ization)                                                                                         \n",
      "                                                                                                  \n",
      " conv3_block2_1_relu (Activatio  (None, 63, 63, 128)  0          ['conv3_block2_1_bn[0][0]']      \n",
      " n)                                                                                               \n",
      "                                                                                                  \n",
      " conv3_block2_2_conv (Conv2D)   (None, 63, 63, 128)  147584      ['conv3_block2_1_relu[0][0]']    \n",
      "                                                                                                  \n",
      " conv3_block2_2_bn (BatchNormal  (None, 63, 63, 128)  512        ['conv3_block2_2_conv[0][0]']    \n",
      " ization)                                                                                         \n",
      "                                                                                                  \n",
      " conv3_block2_2_relu (Activatio  (None, 63, 63, 128)  0          ['conv3_block2_2_bn[0][0]']      \n",
      " n)                                                                                               \n",
      "                                                                                                  \n",
      " conv3_block2_3_conv (Conv2D)   (None, 63, 63, 512)  66048       ['conv3_block2_2_relu[0][0]']    \n",
      "                                                                                                  \n",
      " conv3_block2_3_bn (BatchNormal  (None, 63, 63, 512)  2048       ['conv3_block2_3_conv[0][0]']    \n",
      " ization)                                                                                         \n",
      "                                                                                                  \n",
      " conv3_block2_add (Add)         (None, 63, 63, 512)  0           ['conv3_block1_out[0][0]',       \n",
      "                                                                  'conv3_block2_3_bn[0][0]']      \n",
      "                                                                                                  \n",
      " conv3_block2_out (Activation)  (None, 63, 63, 512)  0           ['conv3_block2_add[0][0]']       \n",
      "                                                                                                  \n",
      " conv3_block3_1_conv (Conv2D)   (None, 63, 63, 128)  65664       ['conv3_block2_out[0][0]']       \n",
      "                                                                                                  \n",
      " conv3_block3_1_bn (BatchNormal  (None, 63, 63, 128)  512        ['conv3_block3_1_conv[0][0]']    \n",
      " ization)                                                                                         \n",
      "                                                                                                  \n",
      " conv3_block3_1_relu (Activatio  (None, 63, 63, 128)  0          ['conv3_block3_1_bn[0][0]']      \n",
      " n)                                                                                               \n",
      "                                                                                                  \n",
      " conv3_block3_2_conv (Conv2D)   (None, 63, 63, 128)  147584      ['conv3_block3_1_relu[0][0]']    \n",
      "                                                                                                  \n",
      " conv3_block3_2_bn (BatchNormal  (None, 63, 63, 128)  512        ['conv3_block3_2_conv[0][0]']    \n",
      " ization)                                                                                         \n",
      "                                                                                                  \n",
      " conv3_block3_2_relu (Activatio  (None, 63, 63, 128)  0          ['conv3_block3_2_bn[0][0]']      \n",
      " n)                                                                                               \n",
      "                                                                                                  \n",
      " conv3_block3_3_conv (Conv2D)   (None, 63, 63, 512)  66048       ['conv3_block3_2_relu[0][0]']    \n",
      "                                                                                                  \n",
      " conv3_block3_3_bn (BatchNormal  (None, 63, 63, 512)  2048       ['conv3_block3_3_conv[0][0]']    \n",
      " ization)                                                                                         \n",
      "                                                                                                  \n",
      " conv3_block3_add (Add)         (None, 63, 63, 512)  0           ['conv3_block2_out[0][0]',       \n",
      "                                                                  'conv3_block3_3_bn[0][0]']      \n",
      "                                                                                                  \n",
      " conv3_block3_out (Activation)  (None, 63, 63, 512)  0           ['conv3_block3_add[0][0]']       \n",
      "                                                                                                  \n",
      " conv3_block4_1_conv (Conv2D)   (None, 63, 63, 128)  65664       ['conv3_block3_out[0][0]']       \n",
      "                                                                                                  \n",
      " conv3_block4_1_bn (BatchNormal  (None, 63, 63, 128)  512        ['conv3_block4_1_conv[0][0]']    \n",
      " ization)                                                                                         \n",
      "                                                                                                  \n",
      " conv3_block4_1_relu (Activatio  (None, 63, 63, 128)  0          ['conv3_block4_1_bn[0][0]']      \n",
      " n)                                                                                               \n",
      "                                                                                                  \n",
      " conv3_block4_2_conv (Conv2D)   (None, 63, 63, 128)  147584      ['conv3_block4_1_relu[0][0]']    \n",
      "                                                                                                  \n",
      " conv3_block4_2_bn (BatchNormal  (None, 63, 63, 128)  512        ['conv3_block4_2_conv[0][0]']    \n",
      " ization)                                                                                         \n",
      "                                                                                                  \n",
      " conv3_block4_2_relu (Activatio  (None, 63, 63, 128)  0          ['conv3_block4_2_bn[0][0]']      \n",
      " n)                                                                                               \n",
      "                                                                                                  \n",
      " conv3_block4_3_conv (Conv2D)   (None, 63, 63, 512)  66048       ['conv3_block4_2_relu[0][0]']    \n",
      "                                                                                                  \n",
      " conv3_block4_3_bn (BatchNormal  (None, 63, 63, 512)  2048       ['conv3_block4_3_conv[0][0]']    \n",
      " ization)                                                                                         \n",
      "                                                                                                  \n",
      " conv3_block4_add (Add)         (None, 63, 63, 512)  0           ['conv3_block3_out[0][0]',       \n",
      "                                                                  'conv3_block4_3_bn[0][0]']      \n",
      "                                                                                                  \n",
      " conv3_block4_out (Activation)  (None, 63, 63, 512)  0           ['conv3_block4_add[0][0]']       \n",
      "                                                                                                  \n",
      " conv4_block1_1_conv (Conv2D)   (None, 32, 32, 256)  131328      ['conv3_block4_out[0][0]']       \n",
      "                                                                                                  \n",
      " conv4_block1_1_bn (BatchNormal  (None, 32, 32, 256)  1024       ['conv4_block1_1_conv[0][0]']    \n",
      " ization)                                                                                         \n",
      "                                                                                                  \n",
      " conv4_block1_1_relu (Activatio  (None, 32, 32, 256)  0          ['conv4_block1_1_bn[0][0]']      \n",
      " n)                                                                                               \n",
      "                                                                                                  \n",
      " conv4_block1_2_conv (Conv2D)   (None, 32, 32, 256)  590080      ['conv4_block1_1_relu[0][0]']    \n",
      "                                                                                                  \n",
      " conv4_block1_2_bn (BatchNormal  (None, 32, 32, 256)  1024       ['conv4_block1_2_conv[0][0]']    \n",
      " ization)                                                                                         \n",
      "                                                                                                  \n",
      " conv4_block1_2_relu (Activatio  (None, 32, 32, 256)  0          ['conv4_block1_2_bn[0][0]']      \n",
      " n)                                                                                               \n",
      "                                                                                                  \n",
      " conv4_block1_0_conv (Conv2D)   (None, 32, 32, 1024  525312      ['conv3_block4_out[0][0]']       \n",
      "                                )                                                                 \n",
      "                                                                                                  \n",
      " conv4_block1_3_conv (Conv2D)   (None, 32, 32, 1024  263168      ['conv4_block1_2_relu[0][0]']    \n",
      "                                )                                                                 \n",
      "                                                                                                  \n",
      " conv4_block1_0_bn (BatchNormal  (None, 32, 32, 1024  4096       ['conv4_block1_0_conv[0][0]']    \n",
      " ization)                       )                                                                 \n",
      "                                                                                                  \n",
      " conv4_block1_3_bn (BatchNormal  (None, 32, 32, 1024  4096       ['conv4_block1_3_conv[0][0]']    \n",
      " ization)                       )                                                                 \n",
      "                                                                                                  \n",
      " conv4_block1_add (Add)         (None, 32, 32, 1024  0           ['conv4_block1_0_bn[0][0]',      \n",
      "                                )                                 'conv4_block1_3_bn[0][0]']      \n",
      "                                                                                                  \n",
      " conv4_block1_out (Activation)  (None, 32, 32, 1024  0           ['conv4_block1_add[0][0]']       \n",
      "                                )                                                                 \n",
      "                                                                                                  \n",
      " conv4_block2_1_conv (Conv2D)   (None, 32, 32, 256)  262400      ['conv4_block1_out[0][0]']       \n",
      "                                                                                                  \n",
      " conv4_block2_1_bn (BatchNormal  (None, 32, 32, 256)  1024       ['conv4_block2_1_conv[0][0]']    \n",
      " ization)                                                                                         \n",
      "                                                                                                  \n",
      " conv4_block2_1_relu (Activatio  (None, 32, 32, 256)  0          ['conv4_block2_1_bn[0][0]']      \n",
      " n)                                                                                               \n",
      "                                                                                                  \n",
      " conv4_block2_2_conv (Conv2D)   (None, 32, 32, 256)  590080      ['conv4_block2_1_relu[0][0]']    \n",
      "                                                                                                  \n",
      " conv4_block2_2_bn (BatchNormal  (None, 32, 32, 256)  1024       ['conv4_block2_2_conv[0][0]']    \n",
      " ization)                                                                                         \n",
      "                                                                                                  \n",
      " conv4_block2_2_relu (Activatio  (None, 32, 32, 256)  0          ['conv4_block2_2_bn[0][0]']      \n",
      " n)                                                                                               \n",
      "                                                                                                  \n",
      " conv4_block2_3_conv (Conv2D)   (None, 32, 32, 1024  263168      ['conv4_block2_2_relu[0][0]']    \n",
      "                                )                                                                 \n",
      "                                                                                                  \n",
      " conv4_block2_3_bn (BatchNormal  (None, 32, 32, 1024  4096       ['conv4_block2_3_conv[0][0]']    \n",
      " ization)                       )                                                                 \n",
      "                                                                                                  \n",
      " conv4_block2_add (Add)         (None, 32, 32, 1024  0           ['conv4_block1_out[0][0]',       \n",
      "                                )                                 'conv4_block2_3_bn[0][0]']      \n",
      "                                                                                                  \n",
      " conv4_block2_out (Activation)  (None, 32, 32, 1024  0           ['conv4_block2_add[0][0]']       \n",
      "                                )                                                                 \n",
      "                                                                                                  \n",
      " conv4_block3_1_conv (Conv2D)   (None, 32, 32, 256)  262400      ['conv4_block2_out[0][0]']       \n",
      "                                                                                                  \n",
      " conv4_block3_1_bn (BatchNormal  (None, 32, 32, 256)  1024       ['conv4_block3_1_conv[0][0]']    \n",
      " ization)                                                                                         \n",
      "                                                                                                  \n",
      " conv4_block3_1_relu (Activatio  (None, 32, 32, 256)  0          ['conv4_block3_1_bn[0][0]']      \n",
      " n)                                                                                               \n",
      "                                                                                                  \n",
      " conv4_block3_2_conv (Conv2D)   (None, 32, 32, 256)  590080      ['conv4_block3_1_relu[0][0]']    \n",
      "                                                                                                  \n",
      " conv4_block3_2_bn (BatchNormal  (None, 32, 32, 256)  1024       ['conv4_block3_2_conv[0][0]']    \n",
      " ization)                                                                                         \n",
      "                                                                                                  \n",
      " conv4_block3_2_relu (Activatio  (None, 32, 32, 256)  0          ['conv4_block3_2_bn[0][0]']      \n",
      " n)                                                                                               \n",
      "                                                                                                  \n",
      " conv4_block3_3_conv (Conv2D)   (None, 32, 32, 1024  263168      ['conv4_block3_2_relu[0][0]']    \n",
      "                                )                                                                 \n",
      "                                                                                                  \n",
      " conv4_block3_3_bn (BatchNormal  (None, 32, 32, 1024  4096       ['conv4_block3_3_conv[0][0]']    \n",
      " ization)                       )                                                                 \n",
      "                                                                                                  \n",
      " conv4_block3_add (Add)         (None, 32, 32, 1024  0           ['conv4_block2_out[0][0]',       \n",
      "                                )                                 'conv4_block3_3_bn[0][0]']      \n",
      "                                                                                                  \n",
      " conv4_block3_out (Activation)  (None, 32, 32, 1024  0           ['conv4_block3_add[0][0]']       \n",
      "                                )                                                                 \n",
      "                                                                                                  \n",
      " conv4_block4_1_conv (Conv2D)   (None, 32, 32, 256)  262400      ['conv4_block3_out[0][0]']       \n",
      "                                                                                                  \n",
      " conv4_block4_1_bn (BatchNormal  (None, 32, 32, 256)  1024       ['conv4_block4_1_conv[0][0]']    \n",
      " ization)                                                                                         \n",
      "                                                                                                  \n",
      " conv4_block4_1_relu (Activatio  (None, 32, 32, 256)  0          ['conv4_block4_1_bn[0][0]']      \n",
      " n)                                                                                               \n",
      "                                                                                                  \n",
      " conv4_block4_2_conv (Conv2D)   (None, 32, 32, 256)  590080      ['conv4_block4_1_relu[0][0]']    \n",
      "                                                                                                  \n",
      " conv4_block4_2_bn (BatchNormal  (None, 32, 32, 256)  1024       ['conv4_block4_2_conv[0][0]']    \n",
      " ization)                                                                                         \n",
      "                                                                                                  \n",
      " conv4_block4_2_relu (Activatio  (None, 32, 32, 256)  0          ['conv4_block4_2_bn[0][0]']      \n",
      " n)                                                                                               \n",
      "                                                                                                  \n",
      " conv4_block4_3_conv (Conv2D)   (None, 32, 32, 1024  263168      ['conv4_block4_2_relu[0][0]']    \n",
      "                                )                                                                 \n",
      "                                                                                                  \n",
      " conv4_block4_3_bn (BatchNormal  (None, 32, 32, 1024  4096       ['conv4_block4_3_conv[0][0]']    \n",
      " ization)                       )                                                                 \n",
      "                                                                                                  \n",
      " conv4_block4_add (Add)         (None, 32, 32, 1024  0           ['conv4_block3_out[0][0]',       \n",
      "                                )                                 'conv4_block4_3_bn[0][0]']      \n",
      "                                                                                                  \n",
      " conv4_block4_out (Activation)  (None, 32, 32, 1024  0           ['conv4_block4_add[0][0]']       \n",
      "                                )                                                                 \n",
      "                                                                                                  \n",
      " conv4_block5_1_conv (Conv2D)   (None, 32, 32, 256)  262400      ['conv4_block4_out[0][0]']       \n",
      "                                                                                                  \n",
      " conv4_block5_1_bn (BatchNormal  (None, 32, 32, 256)  1024       ['conv4_block5_1_conv[0][0]']    \n",
      " ization)                                                                                         \n",
      "                                                                                                  \n",
      " conv4_block5_1_relu (Activatio  (None, 32, 32, 256)  0          ['conv4_block5_1_bn[0][0]']      \n",
      " n)                                                                                               \n",
      "                                                                                                  \n",
      " conv4_block5_2_conv (Conv2D)   (None, 32, 32, 256)  590080      ['conv4_block5_1_relu[0][0]']    \n",
      "                                                                                                  \n",
      " conv4_block5_2_bn (BatchNormal  (None, 32, 32, 256)  1024       ['conv4_block5_2_conv[0][0]']    \n",
      " ization)                                                                                         \n",
      "                                                                                                  \n",
      " conv4_block5_2_relu (Activatio  (None, 32, 32, 256)  0          ['conv4_block5_2_bn[0][0]']      \n",
      " n)                                                                                               \n",
      "                                                                                                  \n",
      " conv4_block5_3_conv (Conv2D)   (None, 32, 32, 1024  263168      ['conv4_block5_2_relu[0][0]']    \n",
      "                                )                                                                 \n",
      "                                                                                                  \n",
      " conv4_block5_3_bn (BatchNormal  (None, 32, 32, 1024  4096       ['conv4_block5_3_conv[0][0]']    \n",
      " ization)                       )                                                                 \n",
      "                                                                                                  \n",
      " conv4_block5_add (Add)         (None, 32, 32, 1024  0           ['conv4_block4_out[0][0]',       \n",
      "                                )                                 'conv4_block5_3_bn[0][0]']      \n",
      "                                                                                                  \n",
      " conv4_block5_out (Activation)  (None, 32, 32, 1024  0           ['conv4_block5_add[0][0]']       \n",
      "                                )                                                                 \n",
      "                                                                                                  \n",
      " conv4_block6_1_conv (Conv2D)   (None, 32, 32, 256)  262400      ['conv4_block5_out[0][0]']       \n",
      "                                                                                                  \n",
      " conv4_block6_1_bn (BatchNormal  (None, 32, 32, 256)  1024       ['conv4_block6_1_conv[0][0]']    \n",
      " ization)                                                                                         \n",
      "                                                                                                  \n",
      " conv4_block6_1_relu (Activatio  (None, 32, 32, 256)  0          ['conv4_block6_1_bn[0][0]']      \n",
      " n)                                                                                               \n",
      "                                                                                                  \n",
      " conv4_block6_2_conv (Conv2D)   (None, 32, 32, 256)  590080      ['conv4_block6_1_relu[0][0]']    \n",
      "                                                                                                  \n",
      " conv4_block6_2_bn (BatchNormal  (None, 32, 32, 256)  1024       ['conv4_block6_2_conv[0][0]']    \n",
      " ization)                                                                                         \n",
      "                                                                                                  \n",
      " conv4_block6_2_relu (Activatio  (None, 32, 32, 256)  0          ['conv4_block6_2_bn[0][0]']      \n",
      " n)                                                                                               \n",
      "                                                                                                  \n",
      " conv4_block6_3_conv (Conv2D)   (None, 32, 32, 1024  263168      ['conv4_block6_2_relu[0][0]']    \n",
      "                                )                                                                 \n",
      "                                                                                                  \n",
      " conv4_block6_3_bn (BatchNormal  (None, 32, 32, 1024  4096       ['conv4_block6_3_conv[0][0]']    \n",
      " ization)                       )                                                                 \n",
      "                                                                                                  \n",
      " conv4_block6_add (Add)         (None, 32, 32, 1024  0           ['conv4_block5_out[0][0]',       \n",
      "                                )                                 'conv4_block6_3_bn[0][0]']      \n",
      "                                                                                                  \n",
      " conv4_block6_out (Activation)  (None, 32, 32, 1024  0           ['conv4_block6_add[0][0]']       \n",
      "                                )                                                                 \n",
      "                                                                                                  \n",
      " conv5_block1_1_conv (Conv2D)   (None, 16, 16, 512)  524800      ['conv4_block6_out[0][0]']       \n",
      "                                                                                                  \n",
      " conv5_block1_1_bn (BatchNormal  (None, 16, 16, 512)  2048       ['conv5_block1_1_conv[0][0]']    \n",
      " ization)                                                                                         \n",
      "                                                                                                  \n",
      " conv5_block1_1_relu (Activatio  (None, 16, 16, 512)  0          ['conv5_block1_1_bn[0][0]']      \n",
      " n)                                                                                               \n",
      "                                                                                                  \n",
      " conv5_block1_2_conv (Conv2D)   (None, 16, 16, 512)  2359808     ['conv5_block1_1_relu[0][0]']    \n",
      "                                                                                                  \n",
      " conv5_block1_2_bn (BatchNormal  (None, 16, 16, 512)  2048       ['conv5_block1_2_conv[0][0]']    \n",
      " ization)                                                                                         \n",
      "                                                                                                  \n",
      " conv5_block1_2_relu (Activatio  (None, 16, 16, 512)  0          ['conv5_block1_2_bn[0][0]']      \n",
      " n)                                                                                               \n",
      "                                                                                                  \n",
      " conv5_block1_0_conv (Conv2D)   (None, 16, 16, 2048  2099200     ['conv4_block6_out[0][0]']       \n",
      "                                )                                                                 \n",
      "                                                                                                  \n",
      " conv5_block1_3_conv (Conv2D)   (None, 16, 16, 2048  1050624     ['conv5_block1_2_relu[0][0]']    \n",
      "                                )                                                                 \n",
      "                                                                                                  \n",
      " conv5_block1_0_bn (BatchNormal  (None, 16, 16, 2048  8192       ['conv5_block1_0_conv[0][0]']    \n",
      " ization)                       )                                                                 \n",
      "                                                                                                  \n",
      " conv5_block1_3_bn (BatchNormal  (None, 16, 16, 2048  8192       ['conv5_block1_3_conv[0][0]']    \n",
      " ization)                       )                                                                 \n",
      "                                                                                                  \n",
      " conv5_block1_add (Add)         (None, 16, 16, 2048  0           ['conv5_block1_0_bn[0][0]',      \n",
      "                                )                                 'conv5_block1_3_bn[0][0]']      \n",
      "                                                                                                  \n",
      " conv5_block1_out (Activation)  (None, 16, 16, 2048  0           ['conv5_block1_add[0][0]']       \n",
      "                                )                                                                 \n",
      "                                                                                                  \n",
      " conv5_block2_1_conv (Conv2D)   (None, 16, 16, 512)  1049088     ['conv5_block1_out[0][0]']       \n",
      "                                                                                                  \n",
      " conv5_block2_1_bn (BatchNormal  (None, 16, 16, 512)  2048       ['conv5_block2_1_conv[0][0]']    \n",
      " ization)                                                                                         \n",
      "                                                                                                  \n",
      " conv5_block2_1_relu (Activatio  (None, 16, 16, 512)  0          ['conv5_block2_1_bn[0][0]']      \n",
      " n)                                                                                               \n",
      "                                                                                                  \n",
      " conv5_block2_2_conv (Conv2D)   (None, 16, 16, 512)  2359808     ['conv5_block2_1_relu[0][0]']    \n",
      "                                                                                                  \n",
      " conv5_block2_2_bn (BatchNormal  (None, 16, 16, 512)  2048       ['conv5_block2_2_conv[0][0]']    \n",
      " ization)                                                                                         \n",
      "                                                                                                  \n",
      " conv5_block2_2_relu (Activatio  (None, 16, 16, 512)  0          ['conv5_block2_2_bn[0][0]']      \n",
      " n)                                                                                               \n",
      "                                                                                                  \n",
      " conv5_block2_3_conv (Conv2D)   (None, 16, 16, 2048  1050624     ['conv5_block2_2_relu[0][0]']    \n",
      "                                )                                                                 \n",
      "                                                                                                  \n",
      " conv5_block2_3_bn (BatchNormal  (None, 16, 16, 2048  8192       ['conv5_block2_3_conv[0][0]']    \n",
      " ization)                       )                                                                 \n",
      "                                                                                                  \n",
      " conv5_block2_add (Add)         (None, 16, 16, 2048  0           ['conv5_block1_out[0][0]',       \n",
      "                                )                                 'conv5_block2_3_bn[0][0]']      \n",
      "                                                                                                  \n",
      " conv5_block2_out (Activation)  (None, 16, 16, 2048  0           ['conv5_block2_add[0][0]']       \n",
      "                                )                                                                 \n",
      "                                                                                                  \n",
      " conv5_block3_1_conv (Conv2D)   (None, 16, 16, 512)  1049088     ['conv5_block2_out[0][0]']       \n",
      "                                                                                                  \n",
      " conv5_block3_1_bn (BatchNormal  (None, 16, 16, 512)  2048       ['conv5_block3_1_conv[0][0]']    \n",
      " ization)                                                                                         \n",
      "                                                                                                  \n",
      " conv5_block3_1_relu (Activatio  (None, 16, 16, 512)  0          ['conv5_block3_1_bn[0][0]']      \n",
      " n)                                                                                               \n",
      "                                                                                                  \n",
      " conv5_block3_2_conv (Conv2D)   (None, 16, 16, 512)  2359808     ['conv5_block3_1_relu[0][0]']    \n",
      "                                                                                                  \n",
      " conv5_block3_2_bn (BatchNormal  (None, 16, 16, 512)  2048       ['conv5_block3_2_conv[0][0]']    \n",
      " ization)                                                                                         \n",
      "                                                                                                  \n",
      " conv5_block3_2_relu (Activatio  (None, 16, 16, 512)  0          ['conv5_block3_2_bn[0][0]']      \n",
      " n)                                                                                               \n",
      "                                                                                                  \n",
      " conv5_block3_3_conv (Conv2D)   (None, 16, 16, 2048  1050624     ['conv5_block3_2_relu[0][0]']    \n",
      "                                )                                                                 \n",
      "                                                                                                  \n",
      " conv5_block3_3_bn (BatchNormal  (None, 16, 16, 2048  8192       ['conv5_block3_3_conv[0][0]']    \n",
      " ization)                       )                                                                 \n",
      "                                                                                                  \n",
      " conv5_block3_add (Add)         (None, 16, 16, 2048  0           ['conv5_block2_out[0][0]',       \n",
      "                                )                                 'conv5_block3_3_bn[0][0]']      \n",
      "                                                                                                  \n",
      " conv5_block3_out (Activation)  (None, 16, 16, 2048  0           ['conv5_block3_add[0][0]']       \n",
      "                                )                                                                 \n",
      "                                                                                                  \n",
      " global_average_pooling2d_2 (Gl  (None, 2048)        0           ['conv5_block3_out[0][0]']       \n",
      " obalAveragePooling2D)                                                                            \n",
      "                                                                                                  \n",
      " dense_2 (Dense)                (None, 1)            2049        ['global_average_pooling2d_2[0][0\n",
      "                                                                 ]']                              \n",
      "                                                                                                  \n",
      "==================================================================================================\n",
      "Total params: 23,589,761\n",
      "Trainable params: 23,536,641\n",
      "Non-trainable params: 53,120\n",
      "__________________________________________________________________________________________________\n"
     ]
    }
   ],
   "source": [
    "loaded_regression_resnet_model.summary()"
   ]
  },
  {
   "cell_type": "code",
   "execution_count": 80,
   "metadata": {},
   "outputs": [
    {
     "name": "stdout",
     "output_type": "stream",
     "text": [
      "1/1 [==============================] - 0s 165ms/step\n"
     ]
    }
   ],
   "source": [
    "predict = loaded_regression_resnet_model.predict(test_images[0])"
   ]
  },
  {
   "cell_type": "code",
   "execution_count": 81,
   "metadata": {},
   "outputs": [
    {
     "data": {
      "text/plain": [
       "array([[1.2949862]], dtype=float32)"
      ]
     },
     "execution_count": 81,
     "metadata": {},
     "output_type": "execute_result"
    }
   ],
   "source": [
    "predict"
   ]
  },
  {
   "cell_type": "code",
   "execution_count": null,
   "metadata": {},
   "outputs": [],
   "source": []
  }
 ],
 "metadata": {
  "kernelspec": {
   "display_name": "Python 3",
   "language": "python",
   "name": "python3"
  },
  "language_info": {
   "codemirror_mode": {
    "name": "ipython",
    "version": 3
   },
   "file_extension": ".py",
   "mimetype": "text/x-python",
   "name": "python",
   "nbconvert_exporter": "python",
   "pygments_lexer": "ipython3",
   "version": "3.10.10"
  },
  "orig_nbformat": 4
 },
 "nbformat": 4,
 "nbformat_minor": 2
}
