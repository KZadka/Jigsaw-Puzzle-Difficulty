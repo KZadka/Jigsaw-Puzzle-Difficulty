{
 "cells": [
  {
   "cell_type": "code",
   "execution_count": 115,
   "metadata": {},
   "outputs": [],
   "source": [
    "import requests\n",
    "from bs4 import BeautifulSoup\n",
    "import pandas as pd\n",
    "from PIL import Image\n",
    "from io import BytesIO\n",
    "import os"
   ]
  },
  {
   "cell_type": "code",
   "execution_count": 4,
   "metadata": {},
   "outputs": [],
   "source": [
    "url = 'https://www.trefl.com/puzzle/500-elementow?product_list_limit=all'\n",
    "response = requests.get(url)\n",
    "html_content = response.text"
   ]
  },
  {
   "cell_type": "code",
   "execution_count": 29,
   "metadata": {},
   "outputs": [
    {
     "name": "stdout",
     "output_type": "stream",
     "text": [
      "67\n"
     ]
    }
   ],
   "source": [
    "soup = BeautifulSoup(html_content, 'html.parser')\n",
    "puzzles_list = soup.find('body')\n",
    "puzzles_list_items = puzzles_list.find('ol')\n",
    "list_items = puzzles_list_items.find_all('li')\n",
    "links = []\n",
    "\n",
    "for puzzles in list_items:\n",
    "    a = puzzles.select_one('a')\n",
    "    if 'href' in a.attrs:\n",
    "        link_url = a.get('href')\n",
    "        links.append(link_url)\n",
    "\n",
    "print(len(links))"
   ]
  },
  {
   "cell_type": "code",
   "execution_count": null,
   "metadata": {},
   "outputs": [],
   "source": [
    "image_list = []\n",
    "for link in links:\n",
    "    response = requests.get(link)\n",
    "    html_content = response.text\n",
    "    soup = BeautifulSoup(html_content, \"html.parser\")\n",
    "    elements = soup.find_all('div', class_ = 'product-content__img')\n",
    "    tag = BeautifulSoup(str(elements[0])).div\n",
    "    image_list.append(tag.img['src'])\n"
   ]
  },
  {
   "cell_type": "code",
   "execution_count": 114,
   "metadata": {},
   "outputs": [
    {
     "name": "stdout",
     "output_type": "stream",
     "text": [
      "https://www.trefl.com/media/catalog/product/cache/156aa98354d850d09b96ecaf7fdf85e2/3/7/37395_150_02.png\n"
     ]
    }
   ],
   "source": [
    "img_response = requests.get(image_list[0], stream=True)\n",
    "img = Image.open(img_response.raw)\n",
    "img.show()"
   ]
  },
  {
   "cell_type": "code",
   "execution_count": 119,
   "metadata": {},
   "outputs": [],
   "source": [
    "image_name = ''\n",
    "image_dir_name = 'images'\n",
    "image_dir = os.path.join(os.curdir, image_dir_name)\n",
    "if not os.path.isdir(image_dir):\n",
    "    os.mkdir(image_dir)\n",
    "\n",
    "for i, image in enumerate(image_list):\n",
    "    image_name = f'{i + 1}.png'\n",
    "    image_file_path = os.path.join(image_dir, image_name)\n",
    "    image_url = image_list[i]\n",
    "    image = requests.get(image_url).content\n",
    "    with open(image_file_path, 'wb') as image_file:\n",
    "        image_file.write(image)"
   ]
  },
  {
   "cell_type": "code",
   "execution_count": null,
   "metadata": {},
   "outputs": [],
   "source": []
  }
 ],
 "metadata": {
  "kernelspec": {
   "display_name": "Python 3",
   "language": "python",
   "name": "python3"
  },
  "language_info": {
   "codemirror_mode": {
    "name": "ipython",
    "version": 3
   },
   "file_extension": ".py",
   "mimetype": "text/x-python",
   "name": "python",
   "nbconvert_exporter": "python",
   "pygments_lexer": "ipython3",
   "version": "3.10.10"
  },
  "orig_nbformat": 4
 },
 "nbformat": 4,
 "nbformat_minor": 2
}
